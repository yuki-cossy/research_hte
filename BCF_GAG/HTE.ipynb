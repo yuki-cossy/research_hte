{
 "cells": [
  {
   "attachments": {},
   "cell_type": "markdown",
   "metadata": {},
   "source": [
    "# housekeeping"
   ]
  },
  {
   "cell_type": "code",
   "execution_count": 1,
   "metadata": {},
   "outputs": [],
   "source": [
    "import os\n",
    "import time\n",
    "\n",
    "import pandas as pd\n",
    "import numpy as np\n",
    "from numpy import genfromtxt\n",
    "import matplotlib.pyplot as plt\n",
    "import seaborn as sns\n",
    "\n",
    "from xbart import XBART\n",
    "from xbcausalforest import XBCF"
   ]
  },
  {
   "attachments": {},
   "cell_type": "markdown",
   "metadata": {},
   "source": [
    "# data"
   ]
  },
  {
   "cell_type": "code",
   "execution_count": 2,
   "metadata": {},
   "outputs": [
    {
     "name": "stdout",
     "output_type": "stream",
     "text": [
      "/Users/domolm/Library/CloudStorage/GoogleDrive-domokomod5@gmail.com/My Drive/Learning/研究計画/BCF_GAG/../GoalsAndGaps/Goals_new/dataset/others/dataset_causalforest.txt\n"
     ]
    }
   ],
   "source": [
    "path = os.getcwd()  # works only in case it's launched from examples folder\n",
    "fileloc = path + '/../GoalsAndGaps/Goals_new/dataset/others/dataset_causalforest.txt'\n",
    "print(fileloc)"
   ]
  },
  {
   "cell_type": "code",
   "execution_count": 3,
   "metadata": {},
   "outputs": [
    {
     "name": "stdout",
     "output_type": "stream",
     "text": [
      "<class 'pandas.core.frame.DataFrame'>\n",
      "RangeIndex: 1217 entries, 0 to 1216\n",
      "Data columns (total 22 columns):\n",
      " #   Column                     Non-Null Count  Dtype  \n",
      "---  ------                     --------------  -----  \n",
      " 0   treat                      1217 non-null   int64  \n",
      " 1   lictec2                    1217 non-null   int64  \n",
      " 2   motivation                 687 non-null    float64\n",
      " 3   barriers                   687 non-null    float64\n",
      " 4   consiglio_lictec2          1217 non-null   int64  \n",
      " 5   stdmatIII                  1094 non-null   float64\n",
      " 6   stditaIII                  1094 non-null   float64\n",
      " 7   school                     1217 non-null   int64  \n",
      " 8   perc_participation_orient  597 non-null    float64\n",
      " 9   perc_participation_calp    579 non-null    float64\n",
      " 10  perc_participation         597 non-null    float64\n",
      " 11  late                       1217 non-null   int64  \n",
      " 12  female                     1217 non-null   int64  \n",
      " 13  immigrato_prima_gen        1217 non-null   int64  \n",
      " 14  stdinvalsiI                1217 non-null   float64\n",
      " 15  stdinvalsiI_2              1217 non-null   float64\n",
      " 16  province                   1217 non-null   int64  \n",
      " 17  educmother                 1217 non-null   int64  \n",
      " 18  occmother                  1217 non-null   int64  \n",
      " 19  educfather                 1217 non-null   int64  \n",
      " 20  occfather                  1217 non-null   int64  \n",
      " 21  citizenship                1217 non-null   int64  \n",
      "dtypes: float64(9), int64(13)\n",
      "memory usage: 209.3 KB\n"
     ]
    }
   ],
   "source": [
    "df = pd.read_table(fileloc)\n",
    "df.info()"
   ]
  },
  {
   "cell_type": "code",
   "execution_count": 4,
   "metadata": {},
   "outputs": [
    {
     "data": {
      "text/html": [
       "<div>\n",
       "<style scoped>\n",
       "    .dataframe tbody tr th:only-of-type {\n",
       "        vertical-align: middle;\n",
       "    }\n",
       "\n",
       "    .dataframe tbody tr th {\n",
       "        vertical-align: top;\n",
       "    }\n",
       "\n",
       "    .dataframe thead th {\n",
       "        text-align: right;\n",
       "    }\n",
       "</style>\n",
       "<table border=\"1\" class=\"dataframe\">\n",
       "  <thead>\n",
       "    <tr style=\"text-align: right;\">\n",
       "      <th></th>\n",
       "      <th>treat</th>\n",
       "      <th>lictec2</th>\n",
       "      <th>motivation</th>\n",
       "      <th>barriers</th>\n",
       "      <th>consiglio_lictec2</th>\n",
       "      <th>stdmatIII</th>\n",
       "      <th>stditaIII</th>\n",
       "      <th>school</th>\n",
       "      <th>perc_participation_orient</th>\n",
       "      <th>perc_participation_calp</th>\n",
       "      <th>perc_participation</th>\n",
       "    </tr>\n",
       "  </thead>\n",
       "  <tbody>\n",
       "    <tr>\n",
       "      <th>0</th>\n",
       "      <td>0</td>\n",
       "      <td>0</td>\n",
       "      <td>NaN</td>\n",
       "      <td>NaN</td>\n",
       "      <td>1</td>\n",
       "      <td>NaN</td>\n",
       "      <td>NaN</td>\n",
       "      <td>5</td>\n",
       "      <td>NaN</td>\n",
       "      <td>NaN</td>\n",
       "      <td>NaN</td>\n",
       "    </tr>\n",
       "    <tr>\n",
       "      <th>1</th>\n",
       "      <td>0</td>\n",
       "      <td>0</td>\n",
       "      <td>NaN</td>\n",
       "      <td>NaN</td>\n",
       "      <td>0</td>\n",
       "      <td>-1.399596</td>\n",
       "      <td>-1.555945</td>\n",
       "      <td>112</td>\n",
       "      <td>NaN</td>\n",
       "      <td>NaN</td>\n",
       "      <td>NaN</td>\n",
       "    </tr>\n",
       "    <tr>\n",
       "      <th>2</th>\n",
       "      <td>0</td>\n",
       "      <td>0</td>\n",
       "      <td>NaN</td>\n",
       "      <td>NaN</td>\n",
       "      <td>0</td>\n",
       "      <td>NaN</td>\n",
       "      <td>NaN</td>\n",
       "      <td>82</td>\n",
       "      <td>NaN</td>\n",
       "      <td>NaN</td>\n",
       "      <td>NaN</td>\n",
       "    </tr>\n",
       "    <tr>\n",
       "      <th>3</th>\n",
       "      <td>1</td>\n",
       "      <td>0</td>\n",
       "      <td>NaN</td>\n",
       "      <td>NaN</td>\n",
       "      <td>1</td>\n",
       "      <td>NaN</td>\n",
       "      <td>NaN</td>\n",
       "      <td>121</td>\n",
       "      <td>0.000000</td>\n",
       "      <td>0.000000</td>\n",
       "      <td>0.000000</td>\n",
       "    </tr>\n",
       "    <tr>\n",
       "      <th>4</th>\n",
       "      <td>1</td>\n",
       "      <td>0</td>\n",
       "      <td>NaN</td>\n",
       "      <td>NaN</td>\n",
       "      <td>0</td>\n",
       "      <td>-0.207511</td>\n",
       "      <td>-0.960164</td>\n",
       "      <td>115</td>\n",
       "      <td>0.384615</td>\n",
       "      <td>0.310345</td>\n",
       "      <td>0.333333</td>\n",
       "    </tr>\n",
       "    <tr>\n",
       "      <th>...</th>\n",
       "      <td>...</td>\n",
       "      <td>...</td>\n",
       "      <td>...</td>\n",
       "      <td>...</td>\n",
       "      <td>...</td>\n",
       "      <td>...</td>\n",
       "      <td>...</td>\n",
       "      <td>...</td>\n",
       "      <td>...</td>\n",
       "      <td>...</td>\n",
       "      <td>...</td>\n",
       "    </tr>\n",
       "    <tr>\n",
       "      <th>1212</th>\n",
       "      <td>0</td>\n",
       "      <td>1</td>\n",
       "      <td>-0.275965</td>\n",
       "      <td>0.035673</td>\n",
       "      <td>0</td>\n",
       "      <td>0.150114</td>\n",
       "      <td>-0.860868</td>\n",
       "      <td>131</td>\n",
       "      <td>NaN</td>\n",
       "      <td>NaN</td>\n",
       "      <td>NaN</td>\n",
       "    </tr>\n",
       "    <tr>\n",
       "      <th>1213</th>\n",
       "      <td>0</td>\n",
       "      <td>0</td>\n",
       "      <td>-0.794850</td>\n",
       "      <td>0.218068</td>\n",
       "      <td>0</td>\n",
       "      <td>-0.803554</td>\n",
       "      <td>-0.562978</td>\n",
       "      <td>112</td>\n",
       "      <td>NaN</td>\n",
       "      <td>NaN</td>\n",
       "      <td>NaN</td>\n",
       "    </tr>\n",
       "    <tr>\n",
       "      <th>1214</th>\n",
       "      <td>1</td>\n",
       "      <td>1</td>\n",
       "      <td>NaN</td>\n",
       "      <td>NaN</td>\n",
       "      <td>1</td>\n",
       "      <td>1.103783</td>\n",
       "      <td>0.529286</td>\n",
       "      <td>101</td>\n",
       "      <td>0.000000</td>\n",
       "      <td>0.000000</td>\n",
       "      <td>0.000000</td>\n",
       "    </tr>\n",
       "    <tr>\n",
       "      <th>1215</th>\n",
       "      <td>0</td>\n",
       "      <td>0</td>\n",
       "      <td>NaN</td>\n",
       "      <td>NaN</td>\n",
       "      <td>0</td>\n",
       "      <td>-1.161179</td>\n",
       "      <td>-0.265088</td>\n",
       "      <td>44</td>\n",
       "      <td>NaN</td>\n",
       "      <td>NaN</td>\n",
       "      <td>NaN</td>\n",
       "    </tr>\n",
       "    <tr>\n",
       "      <th>1216</th>\n",
       "      <td>0</td>\n",
       "      <td>1</td>\n",
       "      <td>NaN</td>\n",
       "      <td>NaN</td>\n",
       "      <td>0</td>\n",
       "      <td>1.222991</td>\n",
       "      <td>0.231396</td>\n",
       "      <td>44</td>\n",
       "      <td>NaN</td>\n",
       "      <td>NaN</td>\n",
       "      <td>NaN</td>\n",
       "    </tr>\n",
       "  </tbody>\n",
       "</table>\n",
       "<p>1217 rows × 11 columns</p>\n",
       "</div>"
      ],
      "text/plain": [
       "      treat  lictec2  motivation  barriers  consiglio_lictec2  stdmatIII  \\\n",
       "0         0        0         NaN       NaN                  1        NaN   \n",
       "1         0        0         NaN       NaN                  0  -1.399596   \n",
       "2         0        0         NaN       NaN                  0        NaN   \n",
       "3         1        0         NaN       NaN                  1        NaN   \n",
       "4         1        0         NaN       NaN                  0  -0.207511   \n",
       "...     ...      ...         ...       ...                ...        ...   \n",
       "1212      0        1   -0.275965  0.035673                  0   0.150114   \n",
       "1213      0        0   -0.794850  0.218068                  0  -0.803554   \n",
       "1214      1        1         NaN       NaN                  1   1.103783   \n",
       "1215      0        0         NaN       NaN                  0  -1.161179   \n",
       "1216      0        1         NaN       NaN                  0   1.222991   \n",
       "\n",
       "      stditaIII  school  perc_participation_orient  perc_participation_calp  \\\n",
       "0           NaN       5                        NaN                      NaN   \n",
       "1     -1.555945     112                        NaN                      NaN   \n",
       "2           NaN      82                        NaN                      NaN   \n",
       "3           NaN     121                   0.000000                 0.000000   \n",
       "4     -0.960164     115                   0.384615                 0.310345   \n",
       "...         ...     ...                        ...                      ...   \n",
       "1212  -0.860868     131                        NaN                      NaN   \n",
       "1213  -0.562978     112                        NaN                      NaN   \n",
       "1214   0.529286     101                   0.000000                 0.000000   \n",
       "1215  -0.265088      44                        NaN                      NaN   \n",
       "1216   0.231396      44                        NaN                      NaN   \n",
       "\n",
       "      perc_participation  \n",
       "0                    NaN  \n",
       "1                    NaN  \n",
       "2                    NaN  \n",
       "3               0.000000  \n",
       "4               0.333333  \n",
       "...                  ...  \n",
       "1212                 NaN  \n",
       "1213                 NaN  \n",
       "1214            0.000000  \n",
       "1215                 NaN  \n",
       "1216                 NaN  \n",
       "\n",
       "[1217 rows x 11 columns]"
      ]
     },
     "execution_count": 4,
     "metadata": {},
     "output_type": "execute_result"
    }
   ],
   "source": [
    "# 処置や目的変数など\n",
    "df.iloc[:, :11]"
   ]
  },
  {
   "cell_type": "code",
   "execution_count": 5,
   "metadata": {},
   "outputs": [
    {
     "data": {
      "text/html": [
       "<div>\n",
       "<style scoped>\n",
       "    .dataframe tbody tr th:only-of-type {\n",
       "        vertical-align: middle;\n",
       "    }\n",
       "\n",
       "    .dataframe tbody tr th {\n",
       "        vertical-align: top;\n",
       "    }\n",
       "\n",
       "    .dataframe thead th {\n",
       "        text-align: right;\n",
       "    }\n",
       "</style>\n",
       "<table border=\"1\" class=\"dataframe\">\n",
       "  <thead>\n",
       "    <tr style=\"text-align: right;\">\n",
       "      <th></th>\n",
       "      <th>late</th>\n",
       "      <th>female</th>\n",
       "      <th>immigrato_prima_gen</th>\n",
       "      <th>stdinvalsiI</th>\n",
       "      <th>stdinvalsiI_2</th>\n",
       "      <th>province</th>\n",
       "      <th>educmother</th>\n",
       "      <th>occmother</th>\n",
       "      <th>educfather</th>\n",
       "      <th>occfather</th>\n",
       "      <th>citizenship</th>\n",
       "    </tr>\n",
       "  </thead>\n",
       "  <tbody>\n",
       "    <tr>\n",
       "      <th>0</th>\n",
       "      <td>0</td>\n",
       "      <td>1</td>\n",
       "      <td>1</td>\n",
       "      <td>-0.278840</td>\n",
       "      <td>0.077752</td>\n",
       "      <td>2</td>\n",
       "      <td>4</td>\n",
       "      <td>5</td>\n",
       "      <td>4</td>\n",
       "      <td>5</td>\n",
       "      <td>3</td>\n",
       "    </tr>\n",
       "    <tr>\n",
       "      <th>1</th>\n",
       "      <td>1</td>\n",
       "      <td>0</td>\n",
       "      <td>1</td>\n",
       "      <td>0.301034</td>\n",
       "      <td>0.090621</td>\n",
       "      <td>1</td>\n",
       "      <td>1</td>\n",
       "      <td>3</td>\n",
       "      <td>1</td>\n",
       "      <td>1</td>\n",
       "      <td>4</td>\n",
       "    </tr>\n",
       "    <tr>\n",
       "      <th>2</th>\n",
       "      <td>1</td>\n",
       "      <td>0</td>\n",
       "      <td>1</td>\n",
       "      <td>0.447595</td>\n",
       "      <td>0.200342</td>\n",
       "      <td>3</td>\n",
       "      <td>4</td>\n",
       "      <td>5</td>\n",
       "      <td>4</td>\n",
       "      <td>5</td>\n",
       "      <td>1</td>\n",
       "    </tr>\n",
       "    <tr>\n",
       "      <th>3</th>\n",
       "      <td>1</td>\n",
       "      <td>1</td>\n",
       "      <td>1</td>\n",
       "      <td>-0.247215</td>\n",
       "      <td>0.061115</td>\n",
       "      <td>4</td>\n",
       "      <td>4</td>\n",
       "      <td>5</td>\n",
       "      <td>4</td>\n",
       "      <td>5</td>\n",
       "      <td>1</td>\n",
       "    </tr>\n",
       "    <tr>\n",
       "      <th>4</th>\n",
       "      <td>0</td>\n",
       "      <td>1</td>\n",
       "      <td>1</td>\n",
       "      <td>-0.444550</td>\n",
       "      <td>0.197625</td>\n",
       "      <td>4</td>\n",
       "      <td>2</td>\n",
       "      <td>2</td>\n",
       "      <td>2</td>\n",
       "      <td>2</td>\n",
       "      <td>4</td>\n",
       "    </tr>\n",
       "  </tbody>\n",
       "</table>\n",
       "</div>"
      ],
      "text/plain": [
       "   late  female  immigrato_prima_gen  stdinvalsiI  stdinvalsiI_2  province  \\\n",
       "0     0       1                    1    -0.278840       0.077752         2   \n",
       "1     1       0                    1     0.301034       0.090621         1   \n",
       "2     1       0                    1     0.447595       0.200342         3   \n",
       "3     1       1                    1    -0.247215       0.061115         4   \n",
       "4     0       1                    1    -0.444550       0.197625         4   \n",
       "\n",
       "   educmother  occmother  educfather  occfather  citizenship  \n",
       "0           4          5           4          5            3  \n",
       "1           1          3           1          1            4  \n",
       "2           4          5           4          5            1  \n",
       "3           4          5           4          5            1  \n",
       "4           2          2           2          2            4  "
      ]
     },
     "execution_count": 5,
     "metadata": {},
     "output_type": "execute_result"
    }
   ],
   "source": [
    "# 共変量\n",
    "df.iloc[:,11:].head()"
   ]
  },
  {
   "cell_type": "code",
   "execution_count": 6,
   "metadata": {},
   "outputs": [
    {
     "data": {
      "text/html": [
       "<div>\n",
       "<style scoped>\n",
       "    .dataframe tbody tr th:only-of-type {\n",
       "        vertical-align: middle;\n",
       "    }\n",
       "\n",
       "    .dataframe tbody tr th {\n",
       "        vertical-align: top;\n",
       "    }\n",
       "\n",
       "    .dataframe thead th {\n",
       "        text-align: right;\n",
       "    }\n",
       "</style>\n",
       "<table border=\"1\" class=\"dataframe\">\n",
       "  <thead>\n",
       "    <tr style=\"text-align: right;\">\n",
       "      <th></th>\n",
       "      <th>stdinvalsiI</th>\n",
       "      <th>stdinvalsiI_2</th>\n",
       "      <th>late</th>\n",
       "      <th>female</th>\n",
       "      <th>immigrato_prima_gen</th>\n",
       "      <th>province</th>\n",
       "      <th>educmother</th>\n",
       "      <th>occmother</th>\n",
       "      <th>educfather</th>\n",
       "      <th>occfather</th>\n",
       "      <th>citizenship</th>\n",
       "    </tr>\n",
       "  </thead>\n",
       "  <tbody>\n",
       "    <tr>\n",
       "      <th>0</th>\n",
       "      <td>-0.278840</td>\n",
       "      <td>0.077752</td>\n",
       "      <td>0</td>\n",
       "      <td>1</td>\n",
       "      <td>1</td>\n",
       "      <td>2</td>\n",
       "      <td>4</td>\n",
       "      <td>5</td>\n",
       "      <td>4</td>\n",
       "      <td>5</td>\n",
       "      <td>3</td>\n",
       "    </tr>\n",
       "    <tr>\n",
       "      <th>1</th>\n",
       "      <td>0.301034</td>\n",
       "      <td>0.090621</td>\n",
       "      <td>1</td>\n",
       "      <td>0</td>\n",
       "      <td>1</td>\n",
       "      <td>1</td>\n",
       "      <td>1</td>\n",
       "      <td>3</td>\n",
       "      <td>1</td>\n",
       "      <td>1</td>\n",
       "      <td>4</td>\n",
       "    </tr>\n",
       "    <tr>\n",
       "      <th>2</th>\n",
       "      <td>0.447595</td>\n",
       "      <td>0.200342</td>\n",
       "      <td>1</td>\n",
       "      <td>0</td>\n",
       "      <td>1</td>\n",
       "      <td>3</td>\n",
       "      <td>4</td>\n",
       "      <td>5</td>\n",
       "      <td>4</td>\n",
       "      <td>5</td>\n",
       "      <td>1</td>\n",
       "    </tr>\n",
       "    <tr>\n",
       "      <th>3</th>\n",
       "      <td>-0.247215</td>\n",
       "      <td>0.061115</td>\n",
       "      <td>1</td>\n",
       "      <td>1</td>\n",
       "      <td>1</td>\n",
       "      <td>4</td>\n",
       "      <td>4</td>\n",
       "      <td>5</td>\n",
       "      <td>4</td>\n",
       "      <td>5</td>\n",
       "      <td>1</td>\n",
       "    </tr>\n",
       "    <tr>\n",
       "      <th>4</th>\n",
       "      <td>-0.444550</td>\n",
       "      <td>0.197625</td>\n",
       "      <td>0</td>\n",
       "      <td>1</td>\n",
       "      <td>1</td>\n",
       "      <td>4</td>\n",
       "      <td>2</td>\n",
       "      <td>2</td>\n",
       "      <td>2</td>\n",
       "      <td>2</td>\n",
       "      <td>4</td>\n",
       "    </tr>\n",
       "    <tr>\n",
       "      <th>...</th>\n",
       "      <td>...</td>\n",
       "      <td>...</td>\n",
       "      <td>...</td>\n",
       "      <td>...</td>\n",
       "      <td>...</td>\n",
       "      <td>...</td>\n",
       "      <td>...</td>\n",
       "      <td>...</td>\n",
       "      <td>...</td>\n",
       "      <td>...</td>\n",
       "      <td>...</td>\n",
       "    </tr>\n",
       "    <tr>\n",
       "      <th>1212</th>\n",
       "      <td>-0.686664</td>\n",
       "      <td>0.471507</td>\n",
       "      <td>0</td>\n",
       "      <td>0</td>\n",
       "      <td>0</td>\n",
       "      <td>4</td>\n",
       "      <td>4</td>\n",
       "      <td>5</td>\n",
       "      <td>3</td>\n",
       "      <td>2</td>\n",
       "      <td>2</td>\n",
       "    </tr>\n",
       "    <tr>\n",
       "      <th>1213</th>\n",
       "      <td>-0.259723</td>\n",
       "      <td>0.067456</td>\n",
       "      <td>0</td>\n",
       "      <td>0</td>\n",
       "      <td>0</td>\n",
       "      <td>1</td>\n",
       "      <td>3</td>\n",
       "      <td>1</td>\n",
       "      <td>3</td>\n",
       "      <td>1</td>\n",
       "      <td>3</td>\n",
       "    </tr>\n",
       "    <tr>\n",
       "      <th>1214</th>\n",
       "      <td>0.810654</td>\n",
       "      <td>0.657160</td>\n",
       "      <td>0</td>\n",
       "      <td>0</td>\n",
       "      <td>1</td>\n",
       "      <td>3</td>\n",
       "      <td>2</td>\n",
       "      <td>2</td>\n",
       "      <td>2</td>\n",
       "      <td>2</td>\n",
       "      <td>4</td>\n",
       "    </tr>\n",
       "    <tr>\n",
       "      <th>1215</th>\n",
       "      <td>0.033399</td>\n",
       "      <td>0.001115</td>\n",
       "      <td>0</td>\n",
       "      <td>1</td>\n",
       "      <td>1</td>\n",
       "      <td>3</td>\n",
       "      <td>3</td>\n",
       "      <td>5</td>\n",
       "      <td>3</td>\n",
       "      <td>2</td>\n",
       "      <td>4</td>\n",
       "    </tr>\n",
       "    <tr>\n",
       "      <th>1216</th>\n",
       "      <td>-0.266096</td>\n",
       "      <td>0.070807</td>\n",
       "      <td>1</td>\n",
       "      <td>1</td>\n",
       "      <td>1</td>\n",
       "      <td>3</td>\n",
       "      <td>2</td>\n",
       "      <td>2</td>\n",
       "      <td>2</td>\n",
       "      <td>2</td>\n",
       "      <td>4</td>\n",
       "    </tr>\n",
       "  </tbody>\n",
       "</table>\n",
       "<p>1217 rows × 11 columns</p>\n",
       "</div>"
      ],
      "text/plain": [
       "      stdinvalsiI  stdinvalsiI_2  late  female  immigrato_prima_gen  province  \\\n",
       "0       -0.278840       0.077752     0       1                    1         2   \n",
       "1        0.301034       0.090621     1       0                    1         1   \n",
       "2        0.447595       0.200342     1       0                    1         3   \n",
       "3       -0.247215       0.061115     1       1                    1         4   \n",
       "4       -0.444550       0.197625     0       1                    1         4   \n",
       "...           ...            ...   ...     ...                  ...       ...   \n",
       "1212    -0.686664       0.471507     0       0                    0         4   \n",
       "1213    -0.259723       0.067456     0       0                    0         1   \n",
       "1214     0.810654       0.657160     0       0                    1         3   \n",
       "1215     0.033399       0.001115     0       1                    1         3   \n",
       "1216    -0.266096       0.070807     1       1                    1         3   \n",
       "\n",
       "      educmother  occmother  educfather  occfather  citizenship  \n",
       "0              4          5           4          5            3  \n",
       "1              1          3           1          1            4  \n",
       "2              4          5           4          5            1  \n",
       "3              4          5           4          5            1  \n",
       "4              2          2           2          2            4  \n",
       "...          ...        ...         ...        ...          ...  \n",
       "1212           4          5           3          2            2  \n",
       "1213           3          1           3          1            3  \n",
       "1214           2          2           2          2            4  \n",
       "1215           3          5           3          2            4  \n",
       "1216           2          2           2          2            4  \n",
       "\n",
       "[1217 rows x 11 columns]"
      ]
     },
     "execution_count": 6,
     "metadata": {},
     "output_type": "execute_result"
    }
   ],
   "source": [
    "# xbcf 用に共変量の並びを変える\n",
    "df_covar = \\\n",
    "df.reindex(\n",
    "    columns=np.concatenate([\n",
    "                df.iloc[:,14:16].columns.values,\n",
    "                df.iloc[:,11:14].columns.values,\n",
    "                df.iloc[:,16:].columns.values\n",
    "            ])\n",
    ")\n",
    "df_covar"
   ]
  },
  {
   "attachments": {},
   "cell_type": "markdown",
   "metadata": {},
   "source": [
    "# XBCF"
   ]
  },
  {
   "attachments": {},
   "cell_type": "markdown",
   "metadata": {},
   "source": [
    "## 変数定義"
   ]
  },
  {
   "cell_type": "code",
   "execution_count": 7,
   "metadata": {},
   "outputs": [],
   "source": [
    "y = df['lictec2'].to_numpy()\n",
    "z = df['treat'].to_numpy()\n",
    "X = df_covar.to_numpy()\n",
    "z = z.astype(np.int32)"
   ]
  },
  {
   "cell_type": "code",
   "execution_count": 8,
   "metadata": {},
   "outputs": [],
   "source": [
    "d_t = X.shape[1]\n",
    "n = X.shape[0]"
   ]
  },
  {
   "attachments": {},
   "cell_type": "markdown",
   "metadata": {},
   "source": [
    "## propensity score 推定"
   ]
  },
  {
   "cell_type": "code",
   "execution_count": 9,
   "metadata": {},
   "outputs": [
    {
     "name": "stdout",
     "output_type": "stream",
     "text": [
      "second elapsed XBART for pihat:  1.4737589359283447\n"
     ]
    }
   ],
   "source": [
    "start = time.time()\n",
    "xbt = XBART(num_trees=100, num_sweeps=40, burnin=15)\n",
    "xb_fit = xbt.fit_predict(X, z, X)\n",
    "xb_fit = xb_fit.reshape((n, 1))\n",
    "\n",
    "end = time.time()\n",
    "print(\"second elapsed XBART for pihat: \", end - start)"
   ]
  },
  {
   "cell_type": "code",
   "execution_count": 10,
   "metadata": {},
   "outputs": [
    {
     "data": {
      "text/plain": [
       "<matplotlib.legend.Legend at 0x109406ef0>"
      ]
     },
     "execution_count": 10,
     "metadata": {},
     "output_type": "execute_result"
    },
    {
     "data": {
      "image/png": "[encoded data removed]",
      "text/plain": [
       "<Figure size 640x480 with 1 Axes>"
      ]
     },
     "metadata": {},
     "output_type": "display_data"
    }
   ],
   "source": [
    "df_ps = pd.DataFrame({'ps':xb_fit.reshape(n,), 'treat':z})\n",
    "\n",
    "for key, df in df_ps.groupby('treat'):\n",
    "    color = 'Orange' if key == 1 else 'Blue'\n",
    "    plt.hist(df['ps'], label=key, alpha=0.5)\n",
    "plt.legend(title='treatment')"
   ]
  },
  {
   "cell_type": "code",
   "execution_count": 11,
   "metadata": {},
   "outputs": [],
   "source": [
    "# append the fitted propensity scores to the original matrix\n",
    "X1 = np.hstack((xb_fit, X))\n",
    "d_p = X1.shape[1]"
   ]
  },
  {
   "attachments": {},
   "cell_type": "markdown",
   "metadata": {},
   "source": [
    "## fit"
   ]
  },
  {
   "cell_type": "code",
   "execution_count": 12,
   "metadata": {},
   "outputs": [],
   "source": [
    "# XBCF parameters\n",
    "sweeps = 10000\n",
    "burn = 2000\n",
    "p_cat = 9\n",
    "trees_pr = 30\n",
    "trees_trt = 10"
   ]
  },
  {
   "cell_type": "code",
   "execution_count": 13,
   "metadata": {},
   "outputs": [],
   "source": [
    "# number of categorical variable are the only mandatory inputs\n",
    "model = XBCF(\n",
    "    num_sweeps=sweeps,\n",
    "    burnin=burn,\n",
    "    max_depth=250,\n",
    "    num_trees_pr=trees_pr,\n",
    "    num_trees_trt=trees_trt,\n",
    "    mtry_pr=d_p,\n",
    "    mtry_trt=d_t,\n",
    "    num_cutpoints=100,\n",
    "    Nmin=1,\n",
    "    p_categorical_pr=p_cat,\n",
    "    p_categorical_trt=p_cat,\n",
    "    #tau_pr= 0.6 * np.var(y) / trees_pr,\n",
    "    #tau_trt= 0.1 * np.var(y) / trees_trt,\n",
    "    #no_split_penality=\"auto\",\n",
    "    #parallel=True,\n",
    "    set_random_seed=True,\n",
    "    random_seed=1013,\n",
    "    #verbose=True, # 機能していない\n",
    "    #standardize_target=False\n",
    ")"
   ]
  },
  {
   "cell_type": "code",
   "execution_count": 14,
   "metadata": {},
   "outputs": [
    {
     "name": "stdout",
     "output_type": "stream",
     "text": [
      "seconds elapsed XBCF:  152.49920010566711\n"
     ]
    }
   ],
   "source": [
    "start = time.time()\n",
    "obj = model.fit(X, X1, y, z)\n",
    "end = time.time()\n",
    "print(\"seconds elapsed XBCF: \", end - start)"
   ]
  },
  {
   "attachments": {},
   "cell_type": "markdown",
   "metadata": {},
   "source": [
    "## 結果"
   ]
  },
  {
   "cell_type": "code",
   "execution_count": 15,
   "metadata": {},
   "outputs": [],
   "source": [
    "b = obj.b.transpose() # shape (2,sweeps)\n",
    "a = obj.a.transpose() # shape (1,sweeps)\n",
    "\n",
    "thats = obj.tauhats * (b[1] - b[0]) # shape (n, sweeps). これはobj.tauhats_adjusted と等価\n",
    "thats_mean = np.mean(thats[:, (burn) : (sweeps - 1)], axis=1) # shape (n,)\n",
    "\n",
    "# pseudo_ATE = np.mean(thats[:, (burn) : (sweeps - 1)], axis=0) # shape ((burn) : (sweeps - 1),)\n",
    "\n",
    "# 結果可視化用の df を作成\n",
    "df_vis = df_covar.copy()\n",
    "df_vis['treat'] = z\n",
    "df_vis['y'] = y\n",
    "df_vis['tau'] = thats_mean\n",
    "\n",
    "# # ATE 用\n",
    "# pseudo_ATE_female = np.mean(thats[np.where(df_vis['female']==1), (burn) : (sweeps - 1)][0], axis=0) # shape (burn:sweep-1,)\n",
    "# pseudo_ATE_male = np.mean(thats[np.where(df_vis['female']==0), (burn) : (sweeps - 1)][0], axis=0)"
   ]
  },
  {
   "attachments": {},
   "cell_type": "markdown",
   "metadata": {},
   "source": [
    "### pseudo ATE"
   ]
  },
  {
   "cell_type": "code",
   "execution_count": 16,
   "metadata": {},
   "outputs": [],
   "source": [
    "# print(pseudo_ATE.mean())\n",
    "# print(pseudo_ATE.std())\n",
    "# plt.grid(alpha=0.5)\n",
    "# plt.title('pseudo ATE')\n",
    "# plt.hist(pseudo_ATE, bins='auto')"
   ]
  },
  {
   "cell_type": "code",
   "execution_count": 17,
   "metadata": {},
   "outputs": [],
   "source": [
    "# print(pseudo_ATE_female.mean())\n",
    "# print(pseudo_ATE_female.std())\n",
    "# plt.title('female pseudo ATE')\n",
    "# plt.grid(alpha=0.5)\n",
    "# plt.hist(pseudo_ATE_female, bins='auto')"
   ]
  },
  {
   "cell_type": "code",
   "execution_count": 18,
   "metadata": {},
   "outputs": [],
   "source": [
    "# print(pseudo_ATE_male.mean())\n",
    "# print(pseudo_ATE_male.std())\n",
    "# plt.title('male pseudo ATE')\n",
    "# plt.grid(alpha=0.5)\n",
    "# plt.hist(pseudo_ATE_male, bins='auto')"
   ]
  },
  {
   "attachments": {},
   "cell_type": "markdown",
   "metadata": {},
   "source": [
    "### CATE"
   ]
  },
  {
   "cell_type": "code",
   "execution_count": 19,
   "metadata": {},
   "outputs": [
    {
     "name": "stdout",
     "output_type": "stream",
     "text": [
      "0.024668972417404053\n",
      "0.0010973084915709217\n"
     ]
    },
    {
     "data": {
      "text/plain": [
       "(array([  8.,  33., 121., 129., 153., 182., 102.,  99., 261., 129.]),\n",
       " array([0.0219303 , 0.02238366, 0.02283702, 0.02329039, 0.02374375,\n",
       "        0.02419711, 0.02465048, 0.02510384, 0.0255572 , 0.02601057,\n",
       "        0.02646393]),\n",
       " <BarContainer object of 10 artists>)"
      ]
     },
     "execution_count": 19,
     "metadata": {},
     "output_type": "execute_result"
    },
    {
     "data": {
      "image/png": "[encoded data removed]",
      "text/plain": [
       "<Figure size 640x480 with 1 Axes>"
      ]
     },
     "metadata": {},
     "output_type": "display_data"
    }
   ],
   "source": [
    "print(thats_mean.mean())\n",
    "print(thats_mean.std())\n",
    "plt.title('CATE')\n",
    "plt.grid(alpha=0.5)\n",
    "plt.hist(thats_mean)"
   ]
  },
  {
   "cell_type": "code",
   "execution_count": 20,
   "metadata": {},
   "outputs": [
    {
     "data": {
      "text/plain": [
       "Text(0.5, 1.0, 'CATE aggregated by gender')"
      ]
     },
     "execution_count": 20,
     "metadata": {},
     "output_type": "execute_result"
    },
    {
     "data": {
      "image/png": "[encoded data removed]",
      "text/plain": [
       "<Figure size 640x480 with 1 Axes>"
      ]
     },
     "metadata": {},
     "output_type": "display_data"
    }
   ],
   "source": [
    "for key, df in df_vis.groupby('female'):\n",
    "    color = 'Orange' if key==1 else 'Blue'\n",
    "    plt.hist(df['tau'], label=key, alpha=0.5)\n",
    "\n",
    "plt.legend(title='Female')\n",
    "plt.title('CATE aggregated by gender')"
   ]
  },
  {
   "cell_type": "code",
   "execution_count": 21,
   "metadata": {},
   "outputs": [
    {
     "data": {
      "text/plain": [
       "<matplotlib.legend.Legend at 0x125377f70>"
      ]
     },
     "execution_count": 21,
     "metadata": {},
     "output_type": "execute_result"
    },
    {
     "data": {
      "image/png": "[encoded data removed]",
      "text/plain": [
       "<Figure size 640x480 with 1 Axes>"
      ]
     },
     "metadata": {},
     "output_type": "display_data"
    }
   ],
   "source": [
    "for key, df in df_vis.groupby('educmother'):\n",
    "    color = 'Orange' if key==1 else 'Blue'\n",
    "    plt.hist(df['tau'], label=key, alpha=0.3)\n",
    "\n",
    "plt.legend(title='educmother')"
   ]
  },
  {
   "cell_type": "code",
   "execution_count": 22,
   "metadata": {},
   "outputs": [
    {
     "data": {
      "text/plain": [
       "Text(0.5, 1.0, 'Female')"
      ]
     },
     "execution_count": 22,
     "metadata": {},
     "output_type": "execute_result"
    },
    {
     "data": {
      "image/png": "[encoded data removed]",
      "text/plain": [
       "<Figure size 640x480 with 2 Axes>"
      ]
     },
     "metadata": {},
     "output_type": "display_data"
    }
   ],
   "source": [
    "# heatmap\n",
    "df_vis['deciles_invalsi'] = pd.qcut(df_vis['stdinvalsiI'], q=10, labels=False)\n",
    "df_heatmap = pd.pivot_table(data=df_vis[df_vis['female']==1], index='deciles_invalsi', columns='educmother', values='tau')\n",
    "sns.heatmap(df_heatmap)\n",
    "plt.title('Female')"
   ]
  },
  {
   "cell_type": "code",
   "execution_count": 23,
   "metadata": {},
   "outputs": [
    {
     "data": {
      "text/plain": [
       "Text(0.5, 1.0, 'Male')"
      ]
     },
     "execution_count": 23,
     "metadata": {},
     "output_type": "execute_result"
    },
    {
     "data": {
      "image/png": "[encoded data removed]",
      "text/plain": [
       "<Figure size 640x480 with 2 Axes>"
      ]
     },
     "metadata": {},
     "output_type": "display_data"
    }
   ],
   "source": [
    "# heatmap\n",
    "# df_vis['deciles_invalsi'] = pd.qcut(df_vis['stdinvalsiI'], q=10, labels=False)\n",
    "df_heatmap = pd.pivot_table(data=df_vis[df_vis['female']==0], index='deciles_invalsi', columns='educmother', values='tau')\n",
    "sns.heatmap(df_heatmap)\n",
    "plt.title('Male')"
   ]
  },
  {
   "cell_type": "code",
   "execution_count": null,
   "metadata": {},
   "outputs": [],
   "source": []
  }
 ],
 "metadata": {
  "kernelspec": {
   "display_name": "Python 3",
   "language": "python",
   "name": "python3"
  },
  "language_info": {
   "codemirror_mode": {
    "name": "ipython",
    "version": 3
   },
   "file_extension": ".py",
   "mimetype": "text/x-python",
   "name": "python",
   "nbconvert_exporter": "python",
   "pygments_lexer": "ipython3",
   "version": "3.10.9"
  },
  "orig_nbformat": 4
 },
 "nbformat": 4,
 "nbformat_minor": 2
}
